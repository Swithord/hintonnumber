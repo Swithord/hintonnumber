{
 "cells": [
  {
   "cell_type": "code",
   "id": "initial_id",
   "metadata": {
    "collapsed": true,
    "ExecuteTime": {
     "end_time": "2025-06-02T17:22:24.752302Z",
     "start_time": "2025-06-02T17:22:24.634514Z"
    }
   },
   "source": [
    "import networkx as nx\n",
    "from tqdm import tqdm\n",
    "from lxml import etree"
   ],
   "outputs": [],
   "execution_count": 2
  },
  {
   "metadata": {
    "ExecuteTime": {
     "end_time": "2025-06-02T17:22:25.996189Z",
     "start_time": "2025-06-02T17:22:25.993158Z"
    }
   },
   "cell_type": "code",
   "source": [
    "valid_tags = {'inproceedings', 'article'}\n",
    "dblp_path = 'dblp.xml'\n",
    "context = etree.iterparse(dblp_path, events=('end',), tag=tuple(valid_tags), recover=True)"
   ],
   "id": "278940e369d5adb3",
   "outputs": [],
   "execution_count": 3
  },
  {
   "metadata": {
    "ExecuteTime": {
     "end_time": "2025-06-02T17:25:24.590800Z",
     "start_time": "2025-06-02T17:22:27.482863Z"
    }
   },
   "cell_type": "code",
   "source": [
    "G = nx.Graph()\n",
    "for event, elem in tqdm(context):\n",
    "        \n",
    "    authors = [author.text for author in elem.findall('author')]\n",
    "    for author in authors:\n",
    "        if not G.has_node(author):\n",
    "            G.add_node(author, name=author)\n",
    "\n",
    "    for i in range(len(authors)):\n",
    "        for j in range(i + 1, len(authors)):\n",
    "            a1, a2 = authors[i], authors[j]\n",
    "            if not G.has_edge(a1, a2):\n",
    "                G.add_edge(a1, a2)\n",
    "\n",
    "    elem.clear()\n",
    "    while elem.getprevious() is not None:\n",
    "        del elem.getparent()[0]"
   ],
   "id": "c8da78a96b405012",
   "outputs": [
    {
     "name": "stderr",
     "output_type": "stream",
     "text": [
      "7588388it [02:57, 42849.79it/s]\n"
     ]
    }
   ],
   "execution_count": 4
  },
  {
   "metadata": {
    "ExecuteTime": {
     "end_time": "2025-06-02T17:29:16.270553Z",
     "start_time": "2025-06-02T17:28:38.285797Z"
    }
   },
   "cell_type": "code",
   "source": [
    "import pickle\n",
    "with open('coauthor_network.pkl', 'wb') as f:\n",
    "    pickle.dump(G, f)"
   ],
   "id": "b6cf7800aeecb11c",
   "outputs": [],
   "execution_count": 11
  },
  {
   "metadata": {
    "ExecuteTime": {
     "end_time": "2025-06-02T17:37:26.582979Z",
     "start_time": "2025-06-02T17:37:26.578262Z"
    }
   },
   "cell_type": "code",
   "source": [
    "target = 'David Liu 0002'\n",
    "path = nx.shortest_path(G, source='Geoffrey E. Hinton', target=target)\n",
    "print(f'Hinton Number of {target}: {len(path) - 1}, Path: {path}')"
   ],
   "id": "f74c08c64c76e0bf",
   "outputs": [
    {
     "name": "stdout",
     "output_type": "stream",
     "text": [
      "Hinton Number of David Liu 0002: 2, Path: ['Geoffrey E. Hinton', 'Sheila A. McIlraith', 'David Liu 0002']\n"
     ]
    }
   ],
   "execution_count": 23
  },
  {
   "metadata": {},
   "cell_type": "code",
   "outputs": [],
   "execution_count": null,
   "source": "",
   "id": "78aded2033b543ea"
  }
 ],
 "metadata": {
  "kernelspec": {
   "display_name": "Python 3",
   "language": "python",
   "name": "python3"
  },
  "language_info": {
   "codemirror_mode": {
    "name": "ipython",
    "version": 2
   },
   "file_extension": ".py",
   "mimetype": "text/x-python",
   "name": "python",
   "nbconvert_exporter": "python",
   "pygments_lexer": "ipython2",
   "version": "2.7.6"
  }
 },
 "nbformat": 4,
 "nbformat_minor": 5
}
